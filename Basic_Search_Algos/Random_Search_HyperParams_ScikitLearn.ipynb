{
 "cells": [
  {
   "cell_type": "markdown",
   "id": "5817b1eb",
   "metadata": {},
   "source": [
    "## Random Search for Hyperparameters\n",
    "\n",
    "\n",
    "https://scikit-learn.org/stable/modules/grid_search.html#randomized-parameter-optimization\n",
    "\n",
    "https://scikit-learn.org/stable/modules/generated/sklearn.model_selection.RandomizedSearchCV.html"
   ]
  },
  {
   "cell_type": "code",
   "execution_count": 2,
   "id": "0e0be8cd",
   "metadata": {},
   "outputs": [],
   "source": [
    "# import libraries\n",
    "\n",
    "import numpy as np\n",
    "import pandas as pd\n",
    "import matplotlib.pyplot as plt\n",
    "\n",
    "import scipy.stats as stats\n",
    "\n",
    "from sklearn.datasets import load_breast_cancer\n",
    "from sklearn.ensemble import GradientBoostingClassifier\n",
    "from sklearn.metrics import roc_auc_score\n",
    "\n",
    "from sklearn.model_selection import (\n",
    "    RandomizedSearchCV,\n",
    "    train_test_split\n",
    ")\n",
    "\n",
    "import warnings\n",
    "warnings.filterwarnings(\"ignore\")"
   ]
  },
  {
   "cell_type": "code",
   "execution_count": 3,
   "id": "152490b5",
   "metadata": {},
   "outputs": [
    {
     "data": {
      "text/html": [
       "<div>\n",
       "<style scoped>\n",
       "    .dataframe tbody tr th:only-of-type {\n",
       "        vertical-align: middle;\n",
       "    }\n",
       "\n",
       "    .dataframe tbody tr th {\n",
       "        vertical-align: top;\n",
       "    }\n",
       "\n",
       "    .dataframe thead th {\n",
       "        text-align: right;\n",
       "    }\n",
       "</style>\n",
       "<table border=\"1\" class=\"dataframe\">\n",
       "  <thead>\n",
       "    <tr style=\"text-align: right;\">\n",
       "      <th></th>\n",
       "      <th>0</th>\n",
       "      <th>1</th>\n",
       "      <th>2</th>\n",
       "      <th>3</th>\n",
       "      <th>4</th>\n",
       "      <th>5</th>\n",
       "      <th>6</th>\n",
       "      <th>7</th>\n",
       "      <th>8</th>\n",
       "      <th>9</th>\n",
       "      <th>...</th>\n",
       "      <th>20</th>\n",
       "      <th>21</th>\n",
       "      <th>22</th>\n",
       "      <th>23</th>\n",
       "      <th>24</th>\n",
       "      <th>25</th>\n",
       "      <th>26</th>\n",
       "      <th>27</th>\n",
       "      <th>28</th>\n",
       "      <th>29</th>\n",
       "    </tr>\n",
       "  </thead>\n",
       "  <tbody>\n",
       "    <tr>\n",
       "      <th>0</th>\n",
       "      <td>17.99</td>\n",
       "      <td>10.38</td>\n",
       "      <td>122.80</td>\n",
       "      <td>1001.0</td>\n",
       "      <td>0.11840</td>\n",
       "      <td>0.27760</td>\n",
       "      <td>0.3001</td>\n",
       "      <td>0.14710</td>\n",
       "      <td>0.2419</td>\n",
       "      <td>0.07871</td>\n",
       "      <td>...</td>\n",
       "      <td>25.38</td>\n",
       "      <td>17.33</td>\n",
       "      <td>184.60</td>\n",
       "      <td>2019.0</td>\n",
       "      <td>0.1622</td>\n",
       "      <td>0.6656</td>\n",
       "      <td>0.7119</td>\n",
       "      <td>0.2654</td>\n",
       "      <td>0.4601</td>\n",
       "      <td>0.11890</td>\n",
       "    </tr>\n",
       "    <tr>\n",
       "      <th>1</th>\n",
       "      <td>20.57</td>\n",
       "      <td>17.77</td>\n",
       "      <td>132.90</td>\n",
       "      <td>1326.0</td>\n",
       "      <td>0.08474</td>\n",
       "      <td>0.07864</td>\n",
       "      <td>0.0869</td>\n",
       "      <td>0.07017</td>\n",
       "      <td>0.1812</td>\n",
       "      <td>0.05667</td>\n",
       "      <td>...</td>\n",
       "      <td>24.99</td>\n",
       "      <td>23.41</td>\n",
       "      <td>158.80</td>\n",
       "      <td>1956.0</td>\n",
       "      <td>0.1238</td>\n",
       "      <td>0.1866</td>\n",
       "      <td>0.2416</td>\n",
       "      <td>0.1860</td>\n",
       "      <td>0.2750</td>\n",
       "      <td>0.08902</td>\n",
       "    </tr>\n",
       "    <tr>\n",
       "      <th>2</th>\n",
       "      <td>19.69</td>\n",
       "      <td>21.25</td>\n",
       "      <td>130.00</td>\n",
       "      <td>1203.0</td>\n",
       "      <td>0.10960</td>\n",
       "      <td>0.15990</td>\n",
       "      <td>0.1974</td>\n",
       "      <td>0.12790</td>\n",
       "      <td>0.2069</td>\n",
       "      <td>0.05999</td>\n",
       "      <td>...</td>\n",
       "      <td>23.57</td>\n",
       "      <td>25.53</td>\n",
       "      <td>152.50</td>\n",
       "      <td>1709.0</td>\n",
       "      <td>0.1444</td>\n",
       "      <td>0.4245</td>\n",
       "      <td>0.4504</td>\n",
       "      <td>0.2430</td>\n",
       "      <td>0.3613</td>\n",
       "      <td>0.08758</td>\n",
       "    </tr>\n",
       "    <tr>\n",
       "      <th>3</th>\n",
       "      <td>11.42</td>\n",
       "      <td>20.38</td>\n",
       "      <td>77.58</td>\n",
       "      <td>386.1</td>\n",
       "      <td>0.14250</td>\n",
       "      <td>0.28390</td>\n",
       "      <td>0.2414</td>\n",
       "      <td>0.10520</td>\n",
       "      <td>0.2597</td>\n",
       "      <td>0.09744</td>\n",
       "      <td>...</td>\n",
       "      <td>14.91</td>\n",
       "      <td>26.50</td>\n",
       "      <td>98.87</td>\n",
       "      <td>567.7</td>\n",
       "      <td>0.2098</td>\n",
       "      <td>0.8663</td>\n",
       "      <td>0.6869</td>\n",
       "      <td>0.2575</td>\n",
       "      <td>0.6638</td>\n",
       "      <td>0.17300</td>\n",
       "    </tr>\n",
       "    <tr>\n",
       "      <th>4</th>\n",
       "      <td>20.29</td>\n",
       "      <td>14.34</td>\n",
       "      <td>135.10</td>\n",
       "      <td>1297.0</td>\n",
       "      <td>0.10030</td>\n",
       "      <td>0.13280</td>\n",
       "      <td>0.1980</td>\n",
       "      <td>0.10430</td>\n",
       "      <td>0.1809</td>\n",
       "      <td>0.05883</td>\n",
       "      <td>...</td>\n",
       "      <td>22.54</td>\n",
       "      <td>16.67</td>\n",
       "      <td>152.20</td>\n",
       "      <td>1575.0</td>\n",
       "      <td>0.1374</td>\n",
       "      <td>0.2050</td>\n",
       "      <td>0.4000</td>\n",
       "      <td>0.1625</td>\n",
       "      <td>0.2364</td>\n",
       "      <td>0.07678</td>\n",
       "    </tr>\n",
       "  </tbody>\n",
       "</table>\n",
       "<p>5 rows × 30 columns</p>\n",
       "</div>"
      ],
      "text/plain": [
       "      0      1       2       3        4        5       6        7       8   \\\n",
       "0  17.99  10.38  122.80  1001.0  0.11840  0.27760  0.3001  0.14710  0.2419   \n",
       "1  20.57  17.77  132.90  1326.0  0.08474  0.07864  0.0869  0.07017  0.1812   \n",
       "2  19.69  21.25  130.00  1203.0  0.10960  0.15990  0.1974  0.12790  0.2069   \n",
       "3  11.42  20.38   77.58   386.1  0.14250  0.28390  0.2414  0.10520  0.2597   \n",
       "4  20.29  14.34  135.10  1297.0  0.10030  0.13280  0.1980  0.10430  0.1809   \n",
       "\n",
       "        9   ...     20     21      22      23      24      25      26      27  \\\n",
       "0  0.07871  ...  25.38  17.33  184.60  2019.0  0.1622  0.6656  0.7119  0.2654   \n",
       "1  0.05667  ...  24.99  23.41  158.80  1956.0  0.1238  0.1866  0.2416  0.1860   \n",
       "2  0.05999  ...  23.57  25.53  152.50  1709.0  0.1444  0.4245  0.4504  0.2430   \n",
       "3  0.09744  ...  14.91  26.50   98.87   567.7  0.2098  0.8663  0.6869  0.2575   \n",
       "4  0.05883  ...  22.54  16.67  152.20  1575.0  0.1374  0.2050  0.4000  0.1625   \n",
       "\n",
       "       28       29  \n",
       "0  0.4601  0.11890  \n",
       "1  0.2750  0.08902  \n",
       "2  0.3613  0.08758  \n",
       "3  0.6638  0.17300  \n",
       "4  0.2364  0.07678  \n",
       "\n",
       "[5 rows x 30 columns]"
      ]
     },
     "execution_count": 3,
     "metadata": {},
     "output_type": "execute_result"
    }
   ],
   "source": [
    "# load data\n",
    "\n",
    "# scikit-learn dataset\n",
    "# https://scikit-learn.org/stable/datasets/toy_dataset.html#breast-cancer-dataset\n",
    "\n",
    "# dataset information: UCI Machine Learning Repository\n",
    "# https://archive.ics.uci.edu/ml/datasets/Breast+Cancer+Wisconsin+(Diagnostic)\n",
    "    \n",
    "# in short, classification problem, trying to predict whether the tumor\n",
    "# is malignant or benign\n",
    "\n",
    "# load dataset\n",
    "breast_cancer_X, breast_cancer_y = load_breast_cancer(return_X_y=True)\n",
    "X = pd.DataFrame(breast_cancer_X)\n",
    "y = pd.Series(breast_cancer_y).map({0:1, 1:0})\n",
    "\n",
    "X.head()"
   ]
  },
  {
   "cell_type": "code",
   "execution_count": 4,
   "id": "d21dcccd",
   "metadata": {},
   "outputs": [
    {
     "data": {
      "text/plain": [
       "(569, 30)"
      ]
     },
     "execution_count": 4,
     "metadata": {},
     "output_type": "execute_result"
    }
   ],
   "source": [
    "X.shape"
   ]
  },
  {
   "cell_type": "code",
   "execution_count": 5,
   "id": "019137fa",
   "metadata": {},
   "outputs": [
    {
     "data": {
      "text/plain": [
       "0    0.627417\n",
       "1    0.372583\n",
       "dtype: float64"
      ]
     },
     "execution_count": 5,
     "metadata": {},
     "output_type": "execute_result"
    }
   ],
   "source": [
    "# target percentage\n",
    "y.value_counts()/len(y)"
   ]
  },
  {
   "cell_type": "code",
   "execution_count": 6,
   "id": "717216e0",
   "metadata": {},
   "outputs": [
    {
     "data": {
      "text/plain": [
       "((398, 30), (171, 30))"
      ]
     },
     "execution_count": 6,
     "metadata": {},
     "output_type": "execute_result"
    }
   ],
   "source": [
    "# split dataset into a train and test set\n",
    "\n",
    "X_train, X_test, y_train, y_test = train_test_split(\n",
    "    X, y, test_size=0.3, random_state=0)\n",
    "\n",
    "X_train.shape, X_test.shape"
   ]
  },
  {
   "cell_type": "code",
   "execution_count": 7,
   "id": "c7a2d356",
   "metadata": {},
   "outputs": [
    {
     "data": {
      "text/plain": [
       "8"
      ]
     },
     "execution_count": 7,
     "metadata": {},
     "output_type": "execute_result"
    }
   ],
   "source": [
    "# draws a random integer between 1 and 10\n",
    "stats.randint.rvs(1,10)\n",
    "\n",
    "# if rvs is not provided, it will give the distribution \n",
    "# used in the RandomSearch below"
   ]
  },
  {
   "cell_type": "code",
   "execution_count": 8,
   "id": "9095f87b",
   "metadata": {},
   "outputs": [
    {
     "data": {
      "text/plain": [
       "0.10792582895783631"
      ]
     },
     "execution_count": 8,
     "metadata": {},
     "output_type": "execute_result"
    }
   ],
   "source": [
    "# draws a floating number between 0 and 1\n",
    "stats.uniform.rvs(0, 1)"
   ]
  },
  {
   "cell_type": "markdown",
   "id": "c3b81058",
   "metadata": {},
   "source": [
    "## Random Search"
   ]
  },
  {
   "cell_type": "code",
   "execution_count": 17,
   "id": "54b645b1",
   "metadata": {},
   "outputs": [],
   "source": [
    "# set up the GBM\n",
    "gbm = GradientBoostingClassifier(random_state=0)\n",
    "\n",
    "# set up the param_grid \n",
    "param_grid = dict(n_estimators=stats.randint(1,10), # giving a distribution that can take any value between 1 and 10 \n",
    "                  min_samples_split=stats.uniform(0,1),\n",
    "                  max_depth=stats.randint(1,5),\n",
    "                  loss = ['exponential', 'deviance']\n",
    "                 )"
   ]
  },
  {
   "cell_type": "code",
   "execution_count": 18,
   "id": "1044cdc8",
   "metadata": {},
   "outputs": [
    {
     "data": {
      "text/plain": [
       "{'loss': 'exponential',\n",
       " 'max_depth': 4,\n",
       " 'min_samples_split': 0.2028029735223642,\n",
       " 'n_estimators': 8}"
      ]
     },
     "execution_count": 18,
     "metadata": {},
     "output_type": "execute_result"
    }
   ],
   "source": [
    "# set up the search\n",
    "\n",
    "clf = RandomizedSearchCV(gbm,\n",
    "                         param_distributions=param_grid,\n",
    "                         scoring='roc_auc',\n",
    "                         refit=True, # refit the data with the best params\n",
    "                         cv=5,# k-fold,\n",
    "                         n_iter=60, # no of iterations\n",
    "                         random_state=10,\n",
    "                         n_jobs=2,\n",
    "                  )\n",
    "\n",
    "search = clf.fit(X_train, y_train)\n",
    "\n",
    "# best hyper parameters\n",
    "search.best_params_"
   ]
  },
  {
   "cell_type": "code",
   "execution_count": 19,
   "id": "e77afd63",
   "metadata": {
    "scrolled": true
   },
   "outputs": [
    {
     "data": {
      "text/html": [
       "<div>\n",
       "<style scoped>\n",
       "    .dataframe tbody tr th:only-of-type {\n",
       "        vertical-align: middle;\n",
       "    }\n",
       "\n",
       "    .dataframe tbody tr th {\n",
       "        vertical-align: top;\n",
       "    }\n",
       "\n",
       "    .dataframe thead th {\n",
       "        text-align: right;\n",
       "    }\n",
       "</style>\n",
       "<table border=\"1\" class=\"dataframe\">\n",
       "  <thead>\n",
       "    <tr style=\"text-align: right;\">\n",
       "      <th></th>\n",
       "      <th>mean_fit_time</th>\n",
       "      <th>std_fit_time</th>\n",
       "      <th>mean_score_time</th>\n",
       "      <th>std_score_time</th>\n",
       "      <th>param_loss</th>\n",
       "      <th>param_max_depth</th>\n",
       "      <th>param_min_samples_split</th>\n",
       "      <th>param_n_estimators</th>\n",
       "      <th>params</th>\n",
       "      <th>split0_test_score</th>\n",
       "      <th>split1_test_score</th>\n",
       "      <th>split2_test_score</th>\n",
       "      <th>split3_test_score</th>\n",
       "      <th>split4_test_score</th>\n",
       "      <th>mean_test_score</th>\n",
       "      <th>std_test_score</th>\n",
       "      <th>rank_test_score</th>\n",
       "    </tr>\n",
       "  </thead>\n",
       "  <tbody>\n",
       "    <tr>\n",
       "      <th>0</th>\n",
       "      <td>0.005207</td>\n",
       "      <td>0.001169</td>\n",
       "      <td>0.003577</td>\n",
       "      <td>0.001213</td>\n",
       "      <td>deviance</td>\n",
       "      <td>2</td>\n",
       "      <td>0.020752</td>\n",
       "      <td>1</td>\n",
       "      <td>{'loss': 'deviance', 'max_depth': 2, 'min_samp...</td>\n",
       "      <td>0.912000</td>\n",
       "      <td>0.878333</td>\n",
       "      <td>0.931333</td>\n",
       "      <td>0.934138</td>\n",
       "      <td>0.927551</td>\n",
       "      <td>0.916671</td>\n",
       "      <td>0.020640</td>\n",
       "      <td>49</td>\n",
       "    </tr>\n",
       "    <tr>\n",
       "      <th>1</th>\n",
       "      <td>0.004428</td>\n",
       "      <td>0.001490</td>\n",
       "      <td>0.002388</td>\n",
       "      <td>0.000478</td>\n",
       "      <td>deviance</td>\n",
       "      <td>4</td>\n",
       "      <td>0.831911</td>\n",
       "      <td>1</td>\n",
       "      <td>{'loss': 'deviance', 'max_depth': 4, 'min_samp...</td>\n",
       "      <td>0.896667</td>\n",
       "      <td>0.896667</td>\n",
       "      <td>0.896667</td>\n",
       "      <td>0.918276</td>\n",
       "      <td>0.859184</td>\n",
       "      <td>0.893492</td>\n",
       "      <td>0.019087</td>\n",
       "      <td>56</td>\n",
       "    </tr>\n",
       "    <tr>\n",
       "      <th>2</th>\n",
       "      <td>0.003993</td>\n",
       "      <td>0.001096</td>\n",
       "      <td>0.002222</td>\n",
       "      <td>0.000410</td>\n",
       "      <td>deviance</td>\n",
       "      <td>2</td>\n",
       "      <td>0.709208</td>\n",
       "      <td>1</td>\n",
       "      <td>{'loss': 'deviance', 'max_depth': 2, 'min_samp...</td>\n",
       "      <td>0.896667</td>\n",
       "      <td>0.896667</td>\n",
       "      <td>0.896667</td>\n",
       "      <td>0.918276</td>\n",
       "      <td>0.859184</td>\n",
       "      <td>0.893492</td>\n",
       "      <td>0.019087</td>\n",
       "      <td>56</td>\n",
       "    </tr>\n",
       "    <tr>\n",
       "      <th>3</th>\n",
       "      <td>0.006994</td>\n",
       "      <td>0.000911</td>\n",
       "      <td>0.002198</td>\n",
       "      <td>0.000404</td>\n",
       "      <td>exponential</td>\n",
       "      <td>1</td>\n",
       "      <td>0.150378</td>\n",
       "      <td>4</td>\n",
       "      <td>{'loss': 'exponential', 'max_depth': 1, 'min_s...</td>\n",
       "      <td>0.960000</td>\n",
       "      <td>0.908333</td>\n",
       "      <td>0.935667</td>\n",
       "      <td>0.967931</td>\n",
       "      <td>0.923469</td>\n",
       "      <td>0.939080</td>\n",
       "      <td>0.022229</td>\n",
       "      <td>33</td>\n",
       "    </tr>\n",
       "    <tr>\n",
       "      <th>4</th>\n",
       "      <td>0.009206</td>\n",
       "      <td>0.000388</td>\n",
       "      <td>0.002596</td>\n",
       "      <td>0.000486</td>\n",
       "      <td>exponential</td>\n",
       "      <td>1</td>\n",
       "      <td>0.003948</td>\n",
       "      <td>7</td>\n",
       "      <td>{'loss': 'exponential', 'max_depth': 1, 'min_s...</td>\n",
       "      <td>0.976333</td>\n",
       "      <td>0.954667</td>\n",
       "      <td>0.964667</td>\n",
       "      <td>0.967241</td>\n",
       "      <td>0.925510</td>\n",
       "      <td>0.957684</td>\n",
       "      <td>0.017505</td>\n",
       "      <td>20</td>\n",
       "    </tr>\n",
       "  </tbody>\n",
       "</table>\n",
       "</div>"
      ],
      "text/plain": [
       "   mean_fit_time  std_fit_time  mean_score_time  std_score_time   param_loss  \\\n",
       "0       0.005207      0.001169         0.003577        0.001213     deviance   \n",
       "1       0.004428      0.001490         0.002388        0.000478     deviance   \n",
       "2       0.003993      0.001096         0.002222        0.000410     deviance   \n",
       "3       0.006994      0.000911         0.002198        0.000404  exponential   \n",
       "4       0.009206      0.000388         0.002596        0.000486  exponential   \n",
       "\n",
       "  param_max_depth param_min_samples_split param_n_estimators  \\\n",
       "0               2                0.020752                  1   \n",
       "1               4                0.831911                  1   \n",
       "2               2                0.709208                  1   \n",
       "3               1                0.150378                  4   \n",
       "4               1                0.003948                  7   \n",
       "\n",
       "                                              params  split0_test_score  \\\n",
       "0  {'loss': 'deviance', 'max_depth': 2, 'min_samp...           0.912000   \n",
       "1  {'loss': 'deviance', 'max_depth': 4, 'min_samp...           0.896667   \n",
       "2  {'loss': 'deviance', 'max_depth': 2, 'min_samp...           0.896667   \n",
       "3  {'loss': 'exponential', 'max_depth': 1, 'min_s...           0.960000   \n",
       "4  {'loss': 'exponential', 'max_depth': 1, 'min_s...           0.976333   \n",
       "\n",
       "   split1_test_score  split2_test_score  split3_test_score  split4_test_score  \\\n",
       "0           0.878333           0.931333           0.934138           0.927551   \n",
       "1           0.896667           0.896667           0.918276           0.859184   \n",
       "2           0.896667           0.896667           0.918276           0.859184   \n",
       "3           0.908333           0.935667           0.967931           0.923469   \n",
       "4           0.954667           0.964667           0.967241           0.925510   \n",
       "\n",
       "   mean_test_score  std_test_score  rank_test_score  \n",
       "0         0.916671        0.020640               49  \n",
       "1         0.893492        0.019087               56  \n",
       "2         0.893492        0.019087               56  \n",
       "3         0.939080        0.022229               33  \n",
       "4         0.957684        0.017505               20  "
      ]
     },
     "execution_count": 19,
     "metadata": {},
     "output_type": "execute_result"
    }
   ],
   "source": [
    "# clf is basically a dictionary that returns the scores and other cross validation results\n",
    "results = pd.DataFrame(search.cv_results_)\n",
    "results.head()"
   ]
  },
  {
   "cell_type": "code",
   "execution_count": 20,
   "id": "4b38f5a9",
   "metadata": {},
   "outputs": [
    {
     "data": {
      "text/plain": [
       "Index(['mean_fit_time', 'std_fit_time', 'mean_score_time', 'std_score_time',\n",
       "       'param_loss', 'param_max_depth', 'param_min_samples_split',\n",
       "       'param_n_estimators', 'params', 'split0_test_score',\n",
       "       'split1_test_score', 'split2_test_score', 'split3_test_score',\n",
       "       'split4_test_score', 'mean_test_score', 'std_test_score',\n",
       "       'rank_test_score'],\n",
       "      dtype='object')"
      ]
     },
     "execution_count": 20,
     "metadata": {},
     "output_type": "execute_result"
    }
   ],
   "source": [
    "results.columns"
   ]
  },
  {
   "cell_type": "code",
   "execution_count": 21,
   "id": "67e91f5d",
   "metadata": {},
   "outputs": [
    {
     "data": {
      "text/html": [
       "<div>\n",
       "<style scoped>\n",
       "    .dataframe tbody tr th:only-of-type {\n",
       "        vertical-align: middle;\n",
       "    }\n",
       "\n",
       "    .dataframe tbody tr th {\n",
       "        vertical-align: top;\n",
       "    }\n",
       "\n",
       "    .dataframe thead th {\n",
       "        text-align: right;\n",
       "    }\n",
       "</style>\n",
       "<table border=\"1\" class=\"dataframe\">\n",
       "  <thead>\n",
       "    <tr style=\"text-align: right;\">\n",
       "      <th></th>\n",
       "      <th>param_max_depth</th>\n",
       "      <th>param_min_samples_split</th>\n",
       "      <th>param_n_estimators</th>\n",
       "      <th>param_loss</th>\n",
       "      <th>mean_test_score</th>\n",
       "      <th>std_test_score</th>\n",
       "    </tr>\n",
       "  </thead>\n",
       "  <tbody>\n",
       "    <tr>\n",
       "      <th>0</th>\n",
       "      <td>4</td>\n",
       "      <td>0.202803</td>\n",
       "      <td>8</td>\n",
       "      <td>exponential</td>\n",
       "      <td>0.978454</td>\n",
       "      <td>0.012904</td>\n",
       "    </tr>\n",
       "    <tr>\n",
       "      <th>1</th>\n",
       "      <td>3</td>\n",
       "      <td>0.35625</td>\n",
       "      <td>9</td>\n",
       "      <td>exponential</td>\n",
       "      <td>0.978311</td>\n",
       "      <td>0.011998</td>\n",
       "    </tr>\n",
       "    <tr>\n",
       "      <th>2</th>\n",
       "      <td>4</td>\n",
       "      <td>0.178903</td>\n",
       "      <td>7</td>\n",
       "      <td>deviance</td>\n",
       "      <td>0.976240</td>\n",
       "      <td>0.011546</td>\n",
       "    </tr>\n",
       "    <tr>\n",
       "      <th>3</th>\n",
       "      <td>4</td>\n",
       "      <td>0.327144</td>\n",
       "      <td>5</td>\n",
       "      <td>exponential</td>\n",
       "      <td>0.975445</td>\n",
       "      <td>0.012714</td>\n",
       "    </tr>\n",
       "    <tr>\n",
       "      <th>4</th>\n",
       "      <td>3</td>\n",
       "      <td>0.373341</td>\n",
       "      <td>7</td>\n",
       "      <td>deviance</td>\n",
       "      <td>0.974968</td>\n",
       "      <td>0.017134</td>\n",
       "    </tr>\n",
       "  </tbody>\n",
       "</table>\n",
       "</div>"
      ],
      "text/plain": [
       "  param_max_depth param_min_samples_split param_n_estimators   param_loss  \\\n",
       "0               4                0.202803                  8  exponential   \n",
       "1               3                 0.35625                  9  exponential   \n",
       "2               4                0.178903                  7     deviance   \n",
       "3               4                0.327144                  5  exponential   \n",
       "4               3                0.373341                  7     deviance   \n",
       "\n",
       "   mean_test_score  std_test_score  \n",
       "0         0.978454        0.012904  \n",
       "1         0.978311        0.011998  \n",
       "2         0.976240        0.011546  \n",
       "3         0.975445        0.012714  \n",
       "4         0.974968        0.017134  "
      ]
     },
     "execution_count": 21,
     "metadata": {},
     "output_type": "execute_result"
    }
   ],
   "source": [
    "# we can order the different models based on their performance\n",
    "results.sort_values(by='mean_test_score', ascending=False, inplace=True)\n",
    "\n",
    "results.reset_index(drop=True, inplace=True)\n",
    "\n",
    "results[[\n",
    "    'param_max_depth', 'param_min_samples_split', 'param_n_estimators','param_loss',\n",
    "    'mean_test_score', 'std_test_score',\n",
    "]].head()"
   ]
  },
  {
   "cell_type": "code",
   "execution_count": 22,
   "id": "1d11d05a",
   "metadata": {},
   "outputs": [
    {
     "data": {
      "text/html": [
       "<div>\n",
       "<style scoped>\n",
       "    .dataframe tbody tr th:only-of-type {\n",
       "        vertical-align: middle;\n",
       "    }\n",
       "\n",
       "    .dataframe tbody tr th {\n",
       "        vertical-align: top;\n",
       "    }\n",
       "\n",
       "    .dataframe thead th {\n",
       "        text-align: right;\n",
       "    }\n",
       "</style>\n",
       "<table border=\"1\" class=\"dataframe\">\n",
       "  <thead>\n",
       "    <tr style=\"text-align: right;\">\n",
       "      <th></th>\n",
       "      <th>param_max_depth</th>\n",
       "      <th>param_min_samples_split</th>\n",
       "      <th>param_n_estimators</th>\n",
       "      <th>param_loss</th>\n",
       "      <th>mean_test_score</th>\n",
       "      <th>std_test_score</th>\n",
       "    </tr>\n",
       "  </thead>\n",
       "  <tbody>\n",
       "    <tr>\n",
       "      <th>55</th>\n",
       "      <td>2</td>\n",
       "      <td>0.709208</td>\n",
       "      <td>1</td>\n",
       "      <td>deviance</td>\n",
       "      <td>0.893492</td>\n",
       "      <td>0.019087</td>\n",
       "    </tr>\n",
       "    <tr>\n",
       "      <th>56</th>\n",
       "      <td>3</td>\n",
       "      <td>0.747582</td>\n",
       "      <td>1</td>\n",
       "      <td>deviance</td>\n",
       "      <td>0.893492</td>\n",
       "      <td>0.019087</td>\n",
       "    </tr>\n",
       "    <tr>\n",
       "      <th>57</th>\n",
       "      <td>2</td>\n",
       "      <td>0.695974</td>\n",
       "      <td>1</td>\n",
       "      <td>deviance</td>\n",
       "      <td>0.893492</td>\n",
       "      <td>0.019087</td>\n",
       "    </tr>\n",
       "    <tr>\n",
       "      <th>58</th>\n",
       "      <td>4</td>\n",
       "      <td>0.831911</td>\n",
       "      <td>1</td>\n",
       "      <td>deviance</td>\n",
       "      <td>0.893492</td>\n",
       "      <td>0.019087</td>\n",
       "    </tr>\n",
       "    <tr>\n",
       "      <th>59</th>\n",
       "      <td>3</td>\n",
       "      <td>0.922233</td>\n",
       "      <td>1</td>\n",
       "      <td>exponential</td>\n",
       "      <td>0.893492</td>\n",
       "      <td>0.019087</td>\n",
       "    </tr>\n",
       "  </tbody>\n",
       "</table>\n",
       "</div>"
      ],
      "text/plain": [
       "   param_max_depth param_min_samples_split param_n_estimators   param_loss  \\\n",
       "55               2                0.709208                  1     deviance   \n",
       "56               3                0.747582                  1     deviance   \n",
       "57               2                0.695974                  1     deviance   \n",
       "58               4                0.831911                  1     deviance   \n",
       "59               3                0.922233                  1  exponential   \n",
       "\n",
       "    mean_test_score  std_test_score  \n",
       "55         0.893492        0.019087  \n",
       "56         0.893492        0.019087  \n",
       "57         0.893492        0.019087  \n",
       "58         0.893492        0.019087  \n",
       "59         0.893492        0.019087  "
      ]
     },
     "execution_count": 22,
     "metadata": {},
     "output_type": "execute_result"
    }
   ],
   "source": [
    "# worst performing models\n",
    "results[[\n",
    "    'param_max_depth', 'param_min_samples_split', 'param_n_estimators','param_loss',\n",
    "    'mean_test_score', 'std_test_score',\n",
    "]].tail()"
   ]
  },
  {
   "cell_type": "code",
   "execution_count": 23,
   "id": "993a6297",
   "metadata": {},
   "outputs": [
    {
     "data": {
      "text/plain": [
       "Text(0.5, 0, 'Hyperparameter combinations')"
      ]
     },
     "execution_count": 23,
     "metadata": {},
     "output_type": "execute_result"
    },
    {
     "data": {
      "image/png": "[encoded data removed]",
      "text/plain": [
       "<Figure size 432x288 with 1 Axes>"
      ]
     },
     "metadata": {
      "needs_background": "light"
     },
     "output_type": "display_data"
    }
   ],
   "source": [
    "# plot model performance and error\n",
    "\n",
    "results['mean_test_score'].plot(yerr=[results['std_test_score'], results['std_test_score']], subplots=True)\n",
    "\n",
    "plt.ylabel('Mean test score')\n",
    "plt.xlabel('Hyperparameter combinations')"
   ]
  },
  {
   "cell_type": "code",
   "execution_count": 24,
   "id": "e5390cdd",
   "metadata": {},
   "outputs": [
    {
     "name": "stdout",
     "output_type": "stream",
     "text": [
      "Train data score : 0.9969003530902132\n",
      "Test data score : 0.9839065255731922\n"
     ]
    }
   ],
   "source": [
    "# get the predictions\n",
    "\n",
    "preds_train = search.predict_proba(X_train)[:,1]\n",
    "preds_test = search.predict_proba(X_test)[:,1]\n",
    "\n",
    "print('Train data score : {}'.format(roc_auc_score(y_train, preds_train)))\n",
    "print('Test data score : {}'.format(roc_auc_score(y_test, preds_test)))"
   ]
  },
  {
   "cell_type": "code",
   "execution_count": 25,
   "id": "1cd86fb1",
   "metadata": {},
   "outputs": [],
   "source": [
    "# lets check the performance based on single hyper parameter\n",
    "\n",
    "def summarize_by_param(param):\n",
    "    tmp = pd.concat([\n",
    "        results.groupby(param)['mean_test_score'].mean(), \n",
    "        results.groupby(param)['mean_test_score'].std()\n",
    "        ], axis = 1)\n",
    "    tmp.columns = ['mean_test_score','std_test_score']\n",
    "    \n",
    "    return tmp    "
   ]
  },
  {
   "cell_type": "code",
   "execution_count": 26,
   "id": "2d831415",
   "metadata": {},
   "outputs": [
    {
     "data": {
      "text/html": [
       "<div>\n",
       "<style scoped>\n",
       "    .dataframe tbody tr th:only-of-type {\n",
       "        vertical-align: middle;\n",
       "    }\n",
       "\n",
       "    .dataframe tbody tr th {\n",
       "        vertical-align: top;\n",
       "    }\n",
       "\n",
       "    .dataframe thead th {\n",
       "        text-align: right;\n",
       "    }\n",
       "</style>\n",
       "<table border=\"1\" class=\"dataframe\">\n",
       "  <thead>\n",
       "    <tr style=\"text-align: right;\">\n",
       "      <th></th>\n",
       "      <th>mean_test_score</th>\n",
       "      <th>std_test_score</th>\n",
       "    </tr>\n",
       "    <tr>\n",
       "      <th>param_n_estimators</th>\n",
       "      <th></th>\n",
       "      <th></th>\n",
       "    </tr>\n",
       "  </thead>\n",
       "  <tbody>\n",
       "    <tr>\n",
       "      <th>1</th>\n",
       "      <td>0.909991</td>\n",
       "      <td>0.014303</td>\n",
       "    </tr>\n",
       "    <tr>\n",
       "      <th>2</th>\n",
       "      <td>0.930562</td>\n",
       "      <td>0.015840</td>\n",
       "    </tr>\n",
       "    <tr>\n",
       "      <th>3</th>\n",
       "      <td>0.935713</td>\n",
       "      <td>0.018023</td>\n",
       "    </tr>\n",
       "    <tr>\n",
       "      <th>4</th>\n",
       "      <td>0.945818</td>\n",
       "      <td>0.007839</td>\n",
       "    </tr>\n",
       "    <tr>\n",
       "      <th>5</th>\n",
       "      <td>0.956278</td>\n",
       "      <td>0.012947</td>\n",
       "    </tr>\n",
       "  </tbody>\n",
       "</table>\n",
       "</div>"
      ],
      "text/plain": [
       "                    mean_test_score  std_test_score\n",
       "param_n_estimators                                 \n",
       "1                          0.909991        0.014303\n",
       "2                          0.930562        0.015840\n",
       "3                          0.935713        0.018023\n",
       "4                          0.945818        0.007839\n",
       "5                          0.956278        0.012947"
      ]
     },
     "execution_count": 26,
     "metadata": {},
     "output_type": "execute_result"
    }
   ],
   "source": [
    "temp = summarize_by_param('param_n_estimators')\n",
    "temp.head()"
   ]
  },
  {
   "cell_type": "code",
   "execution_count": 27,
   "id": "6c8c7eed",
   "metadata": {},
   "outputs": [
    {
     "data": {
      "text/plain": [
       "Text(0, 0.5, 'roc_auc')"
      ]
     },
     "execution_count": 27,
     "metadata": {},
     "output_type": "execute_result"
    },
    {
     "data": {
      "image/png": "[encoded data removed]",
      "text/plain": [
       "<Figure size 432x288 with 1 Axes>"
      ]
     },
     "metadata": {
      "needs_background": "light"
     },
     "output_type": "display_data"
    }
   ],
   "source": [
    "temp['mean_test_score'].plot(yerr=(temp['std_test_score'],temp['std_test_score']))\n",
    "plt.ylabel('roc_auc')"
   ]
  },
  {
   "cell_type": "markdown",
   "id": "eaa2484b",
   "metadata": {},
   "source": [
    "The optimal hyperparameter seems to be somewhere between 7 to 9."
   ]
  },
  {
   "cell_type": "code",
   "execution_count": 28,
   "id": "9afcc752",
   "metadata": {},
   "outputs": [
    {
     "data": {
      "text/html": [
       "<div>\n",
       "<style scoped>\n",
       "    .dataframe tbody tr th:only-of-type {\n",
       "        vertical-align: middle;\n",
       "    }\n",
       "\n",
       "    .dataframe tbody tr th {\n",
       "        vertical-align: top;\n",
       "    }\n",
       "\n",
       "    .dataframe thead th {\n",
       "        text-align: right;\n",
       "    }\n",
       "</style>\n",
       "<table border=\"1\" class=\"dataframe\">\n",
       "  <thead>\n",
       "    <tr style=\"text-align: right;\">\n",
       "      <th></th>\n",
       "      <th>mean_test_score</th>\n",
       "      <th>std_test_score</th>\n",
       "    </tr>\n",
       "    <tr>\n",
       "      <th>param_max_depth</th>\n",
       "      <th></th>\n",
       "      <th></th>\n",
       "    </tr>\n",
       "  </thead>\n",
       "  <tbody>\n",
       "    <tr>\n",
       "      <th>1</th>\n",
       "      <td>0.948778</td>\n",
       "      <td>0.012408</td>\n",
       "    </tr>\n",
       "    <tr>\n",
       "      <th>2</th>\n",
       "      <td>0.933188</td>\n",
       "      <td>0.022890</td>\n",
       "    </tr>\n",
       "    <tr>\n",
       "      <th>3</th>\n",
       "      <td>0.940713</td>\n",
       "      <td>0.026379</td>\n",
       "    </tr>\n",
       "    <tr>\n",
       "      <th>4</th>\n",
       "      <td>0.946077</td>\n",
       "      <td>0.027734</td>\n",
       "    </tr>\n",
       "  </tbody>\n",
       "</table>\n",
       "</div>"
      ],
      "text/plain": [
       "                 mean_test_score  std_test_score\n",
       "param_max_depth                                 \n",
       "1                       0.948778        0.012408\n",
       "2                       0.933188        0.022890\n",
       "3                       0.940713        0.026379\n",
       "4                       0.946077        0.027734"
      ]
     },
     "execution_count": 28,
     "metadata": {},
     "output_type": "execute_result"
    }
   ],
   "source": [
    "# similary check for other params\n",
    "temp = summarize_by_param('param_max_depth')\n",
    "temp.head()"
   ]
  },
  {
   "cell_type": "code",
   "execution_count": 29,
   "id": "08f4909c",
   "metadata": {},
   "outputs": [
    {
     "data": {
      "text/plain": [
       "Text(0, 0.5, 'roc_auc')"
      ]
     },
     "execution_count": 29,
     "metadata": {},
     "output_type": "execute_result"
    },
    {
     "data": {
      "image/png": "[encoded data removed]",
      "text/plain": [
       "<Figure size 432x288 with 1 Axes>"
      ]
     },
     "metadata": {
      "needs_background": "light"
     },
     "output_type": "display_data"
    }
   ],
   "source": [
    "temp['mean_test_score'].plot(yerr=(temp['std_test_score'],temp['std_test_score']))\n",
    "plt.ylabel('roc_auc')"
   ]
  },
  {
   "cell_type": "markdown",
   "id": "3e72a6d6",
   "metadata": {},
   "source": [
    "- Optimal hyper param value lies somewhere between 2 and 4"
   ]
  },
  {
   "cell_type": "code",
   "execution_count": 30,
   "id": "75b3d760",
   "metadata": {},
   "outputs": [
    {
     "data": {
      "text/html": [
       "<div>\n",
       "<style scoped>\n",
       "    .dataframe tbody tr th:only-of-type {\n",
       "        vertical-align: middle;\n",
       "    }\n",
       "\n",
       "    .dataframe tbody tr th {\n",
       "        vertical-align: top;\n",
       "    }\n",
       "\n",
       "    .dataframe thead th {\n",
       "        text-align: right;\n",
       "    }\n",
       "</style>\n",
       "<table border=\"1\" class=\"dataframe\">\n",
       "  <thead>\n",
       "    <tr style=\"text-align: right;\">\n",
       "      <th></th>\n",
       "      <th>mean_test_score</th>\n",
       "      <th>std_test_score</th>\n",
       "    </tr>\n",
       "    <tr>\n",
       "      <th>param_min_samples_split</th>\n",
       "      <th></th>\n",
       "      <th></th>\n",
       "    </tr>\n",
       "  </thead>\n",
       "  <tbody>\n",
       "    <tr>\n",
       "      <th>0.000273</th>\n",
       "      <td>0.943846</td>\n",
       "      <td>NaN</td>\n",
       "    </tr>\n",
       "    <tr>\n",
       "      <th>0.003948</th>\n",
       "      <td>0.957684</td>\n",
       "      <td>NaN</td>\n",
       "    </tr>\n",
       "    <tr>\n",
       "      <th>0.020752</th>\n",
       "      <td>0.916671</td>\n",
       "      <td>NaN</td>\n",
       "    </tr>\n",
       "    <tr>\n",
       "      <th>0.023432</th>\n",
       "      <td>0.957893</td>\n",
       "      <td>NaN</td>\n",
       "    </tr>\n",
       "    <tr>\n",
       "      <th>0.025400</th>\n",
       "      <td>0.957684</td>\n",
       "      <td>NaN</td>\n",
       "    </tr>\n",
       "  </tbody>\n",
       "</table>\n",
       "</div>"
      ],
      "text/plain": [
       "                         mean_test_score  std_test_score\n",
       "param_min_samples_split                                 \n",
       "0.000273                        0.943846             NaN\n",
       "0.003948                        0.957684             NaN\n",
       "0.020752                        0.916671             NaN\n",
       "0.023432                        0.957893             NaN\n",
       "0.025400                        0.957684             NaN"
      ]
     },
     "execution_count": 30,
     "metadata": {},
     "output_type": "execute_result"
    }
   ],
   "source": [
    "# similarly for the last param\n",
    "temp = summarize_by_param('param_min_samples_split')\n",
    "temp.head()"
   ]
  },
  {
   "cell_type": "code",
   "execution_count": 31,
   "id": "2088ec2a",
   "metadata": {},
   "outputs": [
    {
     "data": {
      "text/plain": [
       "Text(0, 0.5, 'roc_auc')"
      ]
     },
     "execution_count": 31,
     "metadata": {},
     "output_type": "execute_result"
    },
    {
     "data": {
      "image/png": "[encoded data removed]",
      "text/plain": [
       "<Figure size 432x288 with 1 Axes>"
      ]
     },
     "metadata": {
      "needs_background": "light"
     },
     "output_type": "display_data"
    }
   ],
   "source": [
    "temp['mean_test_score'].plot(yerr=(temp['std_test_score'],temp['std_test_score']))\n",
    "plt.ylabel('roc_auc')"
   ]
  },
  {
   "cell_type": "markdown",
   "id": "e2150257",
   "metadata": {},
   "source": [
    "- This one doesnt seem to have much impact on the performance"
   ]
  },
  {
   "cell_type": "code",
   "execution_count": 34,
   "id": "4dc07225",
   "metadata": {},
   "outputs": [
    {
     "data": {
      "text/plain": [
       "(0.8, 1.0)"
      ]
     },
     "execution_count": 34,
     "metadata": {},
     "output_type": "execute_result"
    },
    {
     "data": {
      "image/png": "[encoded data removed]",
      "text/plain": [
       "<Figure size 432x288 with 1 Axes>"
      ]
     },
     "metadata": {
      "needs_background": "light"
     },
     "output_type": "display_data"
    }
   ],
   "source": [
    "tmp = summarize_by_param('param_loss')\n",
    "tmp['mean_test_score'].plot.bar(yerr=[tmp['std_test_score'], tmp['std_test_score']], subplots=True)\n",
    "plt.ylim(0.8, 1)"
   ]
  },
  {
   "cell_type": "code",
   "execution_count": null,
   "id": "0f16ea63",
   "metadata": {},
   "outputs": [],
   "source": []
  }
 ],
 "metadata": {
  "kernelspec": {
   "display_name": "Python 3 (ipykernel)",
   "language": "python",
   "name": "python3"
  },
  "language_info": {
   "codemirror_mode": {
    "name": "ipython",
    "version": 3
   },
   "file_extension": ".py",
   "mimetype": "text/x-python",
   "name": "python",
   "nbconvert_exporter": "python",
   "pygments_lexer": "ipython3",
   "version": "3.9.5"
  }
 },
 "nbformat": 4,
 "nbformat_minor": 5
}
